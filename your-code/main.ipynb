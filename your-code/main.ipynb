{
 "cells": [
  {
   "cell_type": "markdown",
   "metadata": {},
   "source": [
    "# Lab | Classes: Vikings vs Saxons\n",
    "\n",
    "The Vikings and Saxons are at war. The moment to fight has come!"
   ]
  },
  {
   "cell_type": "markdown",
   "metadata": {},
   "source": [
    "<div style=\"text-align:center\">\n",
    "  <img src=\"https://media.giphy.com/media/3o7qDLwhxkGTMvDHws/giphy.gif\" width=400px>\n",
    "</div>"
   ]
  },
  {
   "cell_type": "markdown",
   "metadata": {},
   "source": [
    "### Import module\n",
    "To go to war, you need brave soldiers. \n",
    "\n",
    "**Import `soldiers` from module `battle`. Use `bs` as an alias for your import. You'll also need module `random`. Import both of them in the cell below.**"
   ]
  },
  {
   "cell_type": "code",
   "execution_count": 1,
   "metadata": {},
   "outputs": [],
   "source": [
    "import battle.soldiers as bs\n",
    "import random "
   ]
  },
  {
   "cell_type": "markdown",
   "metadata": {},
   "source": [
    "Now, follow the instructions to create a simulation of the war.\n",
    "\n",
    "### Define functions\n",
    "\n",
    "**Create two empty lists called `viking_army` and `saxon_army`.**\n",
    "\n",
    "These lists will store the soldiers of each army. "
   ]
  },
  {
   "cell_type": "code",
   "execution_count": 2,
   "metadata": {},
   "outputs": [],
   "source": [
    "viking_army = []\n",
    "saxon_army = []"
   ]
  },
  {
   "cell_type": "markdown",
   "metadata": {},
   "source": [
    "**Define two functions called `add_viking` and `add_saxon`.** \n",
    "\n",
    "These functions will add soldiers to each army. The requirements that `add_viking` and `add_saxon` must meet are:\n",
    "\n",
    "* **add_viking**\n",
    "    - Must receive a `Viking` object as an argument.\n",
    "    - Must add the `Viking` to the `viking_army`. \n",
    "    \n",
    "* **add_saxon**\n",
    "    - Must receive a `Saxon` object as an argument.\n",
    "    - Must add the `Saxon` to the `saxon_army`. "
   ]
  },
  {
   "cell_type": "code",
   "execution_count": 3,
   "metadata": {},
   "outputs": [],
   "source": [
    "def add_viking(Viking):\n",
    "    viking_army.append(Viking)\n",
    "\n",
    "def add_saxon(Saxon):\n",
    "    saxon_army.append(Saxon)"
   ]
  },
  {
   "cell_type": "markdown",
   "metadata": {},
   "source": [
    "**Define two functions called `viking_attack` and `saxon_attack`.** \n",
    "\n",
    "These functions will choose one random soldier to attack one random soldier of the opposite army. The requirements that `viking_attack` and `saxon_attack` must meet are:\n",
    "\n",
    "* **viking_attack**\n",
    "    - Must choose a `Viking` object from the `viking_army` at random.\n",
    "    - Must choose a `Saxon` object from the `saxon_army` at random. \n",
    "    - Must make the `Saxon` receive damage equal to the `strength` of the `Viking`. \n",
    "    - Must remove the `Saxon` from the army if he or she dies.\n",
    "    - Must return the result of calling the `receive_damage` method of the `Saxon`. \n",
    "    \n",
    "* **saxon_attack**\n",
    "    - Must choose a `Viking` object from the `viking_army` at random.\n",
    "    - Must choose a `Saxon` object from the `saxon_army` at random. \n",
    "    - Must make the `Viking` receive damage equal to the `strength` of the `Saxon`. \n",
    "    - Must remove the `Viking` from the army if he or she dies.\n",
    "    - Must return the result of calling the `receive_damage` method of the `Viking`."
   ]
  },
  {
   "cell_type": "code",
   "execution_count": 4,
   "metadata": {},
   "outputs": [],
   "source": [
    "def viking_attack():\n",
    "    viking = random.choice(viking_army)\n",
    "    saxon = random.choice(saxon_army)\n",
    "    \n",
    "    strenght = viking.attack()\n",
    "    saxon.receive_damage(strenght) \n",
    "\n",
    "    if saxon.health <= 0:\n",
    "        saxon_army.remove(saxon)\n",
    "    \n",
    "def saxon_attack():\n",
    "    viking = random.choice(viking_army)\n",
    "    saxon = random.choice(saxon_army)\n",
    "    \n",
    "    strenght = saxon.attack()\n",
    "    viking.receive_damage(strenght) \n",
    "\n",
    "    if viking.health <= 0: \n",
    "        viking_army.remove(viking)"
   ]
  },
  {
   "cell_type": "markdown",
   "metadata": {},
   "source": [
    "**Define a function called `show_status`.**\n",
    "This function will show the current status of the war. The requirements that `show_status` must meet are:\n",
    "\n",
    "* **show_status**\n",
    "    - If the `Saxon` list is empty, must return \"Vikings live to fight another day!\"\n",
    "    - If the `Viking` list is empty, must return \"Saxons are the last ones standing! \"\n",
    "    - If there are at least one `Viking` and one `Saxon`, must return \"Vikings and Saxons are still in the thick of battle.\"\n"
   ]
  },
  {
   "cell_type": "code",
   "execution_count": 10,
   "metadata": {},
   "outputs": [],
   "source": [
    "def show_status():\n",
    "    if len(saxon_army) == 0:\n",
    "        return print (\"Vikings live to fight another day!\")\n",
    "    elif len(viking_army)== 0:\n",
    "        return print (\"Saxons live to fight another day!\")\n",
    "    elif len(saxon_army) != 0 or len(viking_army)!= 0:\n",
    "        return print (\"Vikings and Saxons are still in the thick of battle.\")"
   ]
  },
  {
   "cell_type": "markdown",
   "metadata": {},
   "source": [
    "### Start the battle\n",
    "\n",
    "Now you have all you need to simulate the battle. First, create the soldiers.\n",
    "\n",
    "**Create as many `Viking` instances as teachers in your class and give them the appropriate names. Remember to add them to the `viking_army`.** All vikings have 100 health points and 50 strength points."
   ]
  },
  {
   "cell_type": "code",
   "execution_count": 11,
   "metadata": {},
   "outputs": [],
   "source": [
    "for name in [\"Tjerk\", \"Ali\", \"Nacho\"]:\n",
    "    add_viking(bs.Viking(50, 100, name))"
   ]
  },
  {
   "cell_type": "markdown",
   "metadata": {},
   "source": [
    "**Create as many `Saxons` instances as students in your class. Remember to add them to the `saxon_army`.** All saxons have 100 health points and 15 strength points."
   ]
  },
  {
   "cell_type": "code",
   "execution_count": 12,
   "metadata": {},
   "outputs": [],
   "source": [
    "for saxon in range(12):\n",
    "    add_saxon(bs.Saxon(15,100))"
   ]
  },
  {
   "cell_type": "markdown",
   "metadata": {},
   "source": [
    "**Finally, write the execution of the battle.**\n",
    "You will need to create a battle loop. In each iteration:\n",
    "\n",
    "- Vikings will attack first. \n",
    "- After the attack, a message of the Saxon soldier status must be printed. \n",
    "- Saxons will attack last. \n",
    "- After the attack, a message of the Viking soldier status must be printed.\n",
    "- At the end of an iteration, a message of the status of the battle must be printed.\n",
    "\n",
    "Remember to take into account that if any of the armies lose all their soldiers, the battle needs automatically and a message of the resolution of the battle must be printed."
   ]
  },
  {
   "cell_type": "code",
   "execution_count": 13,
   "metadata": {},
   "outputs": [
    {
     "name": "stdout",
     "output_type": "stream",
     "text": [
      "empty\n"
     ]
    }
   ],
   "source": [
    "test = []\n",
    "if test:\n",
    "    print('asdfa')\n",
    "else:\n",
    "    print('empty')"
   ]
  },
  {
   "cell_type": "code",
   "execution_count": 14,
   "metadata": {},
   "outputs": [
    {
     "name": "stdout",
     "output_type": "stream",
     "text": [
      "A Saxon has received 50 points of damage\n",
      "Tjerk has received 15 points of damage\n",
      "Vikings and Saxons are still in the thick of battle.\n",
      "A Saxon has received 50 points of damage\n",
      "Tjerk has received 15 points of damage\n",
      "Vikings and Saxons are still in the thick of battle.\n",
      "A Saxon has received 50 points of damage\n",
      "Nacho has received 15 points of damage\n",
      "Vikings and Saxons are still in the thick of battle.\n",
      "A Saxon has received 50 points of damage\n",
      "Nacho has received 15 points of damage\n",
      "Vikings and Saxons are still in the thick of battle.\n",
      "A Saxon has received 50 points of damage\n",
      "Nacho has received 15 points of damage\n",
      "Vikings and Saxons are still in the thick of battle.\n",
      "A Saxon has received 50 points of damage\n",
      "Nacho has received 15 points of damage\n",
      "Vikings and Saxons are still in the thick of battle.\n",
      "A Saxon has received 50 points of damage\n",
      "Ali has received 15 points of damage\n",
      "Vikings and Saxons are still in the thick of battle.\n",
      "A Saxon has died in combat\n",
      "Ali has received 15 points of damage\n",
      "Vikings and Saxons are still in the thick of battle.\n",
      "A Saxon has received 50 points of damage\n",
      "Nacho has received 15 points of damage\n",
      "Vikings and Saxons are still in the thick of battle.\n",
      "A Saxon has received 50 points of damage\n",
      "Ali has received 15 points of damage\n",
      "Vikings and Saxons are still in the thick of battle.\n",
      "A Saxon has received 50 points of damage\n",
      "Tjerk has received 15 points of damage\n",
      "Vikings and Saxons are still in the thick of battle.\n",
      "A Saxon has received 50 points of damage\n",
      "Ali has received 15 points of damage\n",
      "Vikings and Saxons are still in the thick of battle.\n",
      "A Saxon has died in combat\n",
      "Ali has received 15 points of damage\n",
      "Vikings and Saxons are still in the thick of battle.\n",
      "A Saxon has died in combat\n",
      "Ali has received 15 points of damage\n",
      "Vikings and Saxons are still in the thick of battle.\n",
      "A Saxon has received 50 points of damage\n",
      "Tjerk has received 15 points of damage\n",
      "Vikings and Saxons are still in the thick of battle.\n",
      "A Saxon has received 50 points of damage\n",
      "Nacho has received 15 points of damage\n",
      "Vikings and Saxons are still in the thick of battle.\n",
      "A Saxon has died in combat\n",
      "Tjerk has received 15 points of damage\n",
      "Vikings and Saxons are still in the thick of battle.\n",
      "A Saxon has received 50 points of damage\n",
      "Ali has received 15 points of damage\n",
      "Vikings and Saxons are still in the thick of battle.\n",
      "A Saxon has died in combat\n",
      "Tjerk has received 15 points of damage\n",
      "Vikings and Saxons are still in the thick of battle.\n",
      "A Saxon has received 50 points of damage\n",
      "Tjerk has received 15 points of damage\n",
      "Vikings and Saxons are still in the thick of battle.\n",
      "A Saxon has received 50 points of damage\n",
      "Tjerk has received 15 points of damage\n",
      "Vikings and Saxons are still in the thick of battle.\n",
      "A Saxon has died in combat\n",
      "Nacho has received 15 points of damage\n",
      "Vikings and Saxons are still in the thick of battle.\n",
      "A Saxon has received 50 points of damage\n",
      "Tjerk has received 15 points of damage\n",
      "Vikings and Saxons are still in the thick of battle.\n",
      "A Saxon has received 50 points of damage\n",
      "Ali has received 15 points of damage\n",
      "Vikings and Saxons are still in the thick of battle.\n",
      "A Saxon has died in combat\n",
      "Ali has received 15 points of damage\n",
      "Vikings and Saxons are still in the thick of battle.\n",
      "A Saxon has died in combat\n",
      "Nacho has received 15 points of damage\n",
      "Vikings and Saxons are still in the thick of battle.\n",
      "A Saxon has received 50 points of damage\n",
      "Nacho has received 15 points of damage\n",
      "Vikings and Saxons are still in the thick of battle.\n",
      "A Saxon has received 50 points of damage\n",
      "Ali has received 15 points of damage\n",
      "Vikings and Saxons are still in the thick of battle.\n",
      "A Saxon has received 50 points of damage\n",
      "Tjerk has received 15 points of damage\n",
      "Vikings and Saxons are still in the thick of battle.\n",
      "A Saxon has died in combat\n",
      "Nacho has received 15 points of damage\n",
      "Vikings and Saxons are still in the thick of battle.\n",
      "A Saxon has received 50 points of damage\n",
      "Tjerk has died in combat\n",
      "Vikings and Saxons are still in the thick of battle.\n",
      "A Saxon has died in combat\n",
      "Ali has received 15 points of damage\n",
      "Vikings and Saxons are still in the thick of battle.\n",
      "A Saxon has died in combat\n",
      "Nacho has received 15 points of damage\n",
      "Vikings and Saxons are still in the thick of battle.\n",
      "A Saxon has died in combat\n",
      "Tjerk has received 15 points of damage\n",
      "Vikings and Saxons are still in the thick of battle.\n",
      "A Saxon has died in combat\n",
      "Ali has died in combat\n",
      "Vikings and Saxons are still in the thick of battle.\n",
      "A Saxon has died in combat\n",
      "Ali has received 15 points of damage\n",
      "Vikings and Saxons are still in the thick of battle.\n",
      "A Saxon has died in combat\n",
      "Ali has died in combat\n",
      "Vikings and Saxons are still in the thick of battle.\n",
      "A Saxon has died in combat\n",
      "Tjerk has died in combat\n",
      "Vikings and Saxons are still in the thick of battle.\n",
      "A Saxon has died in combat\n",
      "Nacho has died in combat\n",
      "Vikings and Saxons are still in the thick of battle.\n",
      "A Saxon has died in combat\n",
      "Nacho has received 15 points of damage\n",
      "Vikings and Saxons are still in the thick of battle.\n",
      "A Saxon has died in combat\n",
      "Nacho has died in combat\n",
      "Saxons live to fight another day!\n"
     ]
    }
   ],
   "source": [
    "while viking_army and saxon_army: \n",
    "    viking_attack()\n",
    "    saxon_attack()\n",
    "    show_status()"
   ]
  },
  {
   "cell_type": "code",
   "execution_count": null,
   "metadata": {},
   "outputs": [],
   "source": []
  }
 ],
 "metadata": {
  "file_extension": ".py",
  "kernelspec": {
   "display_name": "Python 3",
   "language": "python",
   "name": "python3"
  },
  "language_info": {
   "codemirror_mode": {
    "name": "ipython",
    "version": 3
   },
   "file_extension": ".py",
   "mimetype": "text/x-python",
   "name": "python",
   "nbconvert_exporter": "python",
   "pygments_lexer": "ipython3",
   "version": "3.8.1"
  },
  "mimetype": "text/x-python",
  "name": "python",
  "npconvert_exporter": "python",
  "pygments_lexer": "ipython3",
  "version": 3
 },
 "nbformat": 4,
 "nbformat_minor": 2
}
