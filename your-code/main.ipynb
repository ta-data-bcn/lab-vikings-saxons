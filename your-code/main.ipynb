{
 "cells": [
  {
   "cell_type": "markdown",
   "metadata": {},
   "source": [
    "# Lab | Classes: Vikings vs Saxons\n",
    "\n",
    "The Vikings and Saxons are at war. The moment to fight has come!"
   ]
  },
  {
   "cell_type": "markdown",
   "metadata": {},
   "source": [
    "<div style=\"text-align:center\">\n",
    "  <img src=\"https://media.giphy.com/media/3o7qDLwhxkGTMvDHws/giphy.gif\" width=400px>\n",
    "</div>"
   ]
  },
  {
   "cell_type": "markdown",
   "metadata": {},
   "source": [
    "### Import module\n",
    "To go to war, you need brave soldiers. \n",
    "\n",
    "**Import `soldiers` from module `battle`. Use `bs` as an alias for your import. You'll also need module `random`. Import both of them in the cell below.**"
   ]
  },
  {
   "cell_type": "code",
   "execution_count": 17,
   "metadata": {},
   "outputs": [],
   "source": [
    "# your code here\n",
    "from battle import soldiers as bs"
   ]
  },
  {
   "cell_type": "markdown",
   "metadata": {},
   "source": [
    "Now, follow the instructions to create a simulation of the war.\n",
    "\n",
    "### Define functions\n",
    "\n",
    "**Create two empty lists called `viking_army` and `saxon_army`.**\n",
    "\n",
    "These lists will store the soldiers of each army. "
   ]
  },
  {
   "cell_type": "code",
   "execution_count": 18,
   "metadata": {},
   "outputs": [],
   "source": [
    "# your code here\n",
    "viking_army = []\n",
    "saxon_army = []\n"
   ]
  },
  {
   "cell_type": "markdown",
   "metadata": {},
   "source": [
    "**Define two functions called `add_viking` and `add_saxon`.** \n",
    "\n",
    "These functions will add soldiers to each army. The requirements that `add_viking` and `add_saxon` must meet are:\n",
    "\n",
    "* **add_viking**\n",
    "    - Must receive a `Viking` object as an argument.\n",
    "    - Must add the `Viking` to the `viking_army`. \n",
    "    \n",
    "* **add_saxon**\n",
    "    - Must receive a `Saxon` object as an argument.\n",
    "    - Must add the `Saxon` to the `saxon_army`. "
   ]
  },
  {
   "cell_type": "code",
   "execution_count": 19,
   "metadata": {},
   "outputs": [],
   "source": [
    "# your code here\n",
    "def add_viking(v):\n",
    "    if(type(v) == 'Viking'):\n",
    "        viking_army.append(v)\n",
    "def add_saxon(s):\n",
    "    if(type(s) == 'Saxon'):\n",
    "        saxon_army.append(s)"
   ]
  },
  {
   "cell_type": "markdown",
   "metadata": {},
   "source": [
    "**Define two functions called `viking_attack` and `saxon_attack`.** \n",
    "\n",
    "These functions will choose one random soldier to attack one random soldier of the opposite army. The requirements that `viking_attack` and `saxon_attack` must meet are:\n",
    "\n",
    "* **viking_attack**\n",
    "    - Must choose a `Viking` object from the `viking_army` at random.\n",
    "    - Must choose a `Saxon` object from the `saxon_army` at random. \n",
    "    - Must make the `Saxon` receive damage equal to the `strength` of the `Viking`. \n",
    "    - Must remove the `Saxon` from the army if he or she dies.\n",
    "    - Must return the result of calling the `receive_damage` method of the `Saxon`. \n",
    "    \n",
    "* **saxon_attack**\n",
    "    - Must choose a `Viking` object from the `viking_army` at random.\n",
    "    - Must choose a `Saxon` object from the `saxon_army` at random. \n",
    "    - Must make the `Viking` receive damage equal to the `strength` of the `Saxon`. \n",
    "    - Must remove the `Viking` from the army if he or she dies.\n",
    "    - Must return the result of calling the `receive_damage` method of the `Viking`."
   ]
  },
  {
   "cell_type": "code",
   "execution_count": 20,
   "metadata": {},
   "outputs": [],
   "source": [
    "# your code here\n",
    "import random\n",
    "\n",
    "def viking_attack():\n",
    "    v = random.choice(viking_army)\n",
    "    s = random.choice(saxon_army)\n",
    "    out = s.receive_damage(v.attack())\n",
    "    if (s.health < 0):\n",
    "        saxon_army.remove(s)\n",
    "    return out\n",
    "\n",
    "def saxon_attack():\n",
    "    v = random.choice(viking_army)\n",
    "    s = random.choice(saxon_army)\n",
    "    out = v.receive_damage(s.attack())\n",
    "    if (v.health < 0):\n",
    "        viking_army.remove(v)\n",
    "    return out\n"
   ]
  },
  {
   "cell_type": "markdown",
   "metadata": {},
   "source": [
    "**Define a function called `show_status`.**\n",
    "This function will show the current status of the war. The requirements that `show_status` must meet are:\n",
    "\n",
    "* **show_status**\n",
    "    - If the `Saxon` list is empty, must return \"Vikings live to fight another day!\"\n",
    "    - If the `Viking` list is empty, must return \"Saxons are the last ones standing! \"\n",
    "    - If there are at least one `Viking` and one `Saxon`, must return \"Vikings and Saxons are still in the thick of battle.\"\n"
   ]
  },
  {
   "cell_type": "code",
   "execution_count": 21,
   "metadata": {},
   "outputs": [],
   "source": [
    "# your code here\n",
    "def show_status():\n",
    "    if (len(saxon_army) == 0):\n",
    "        return 'Vikings live to fight another day!'\n",
    "    elif (len(viking_army) == 0):\n",
    "        return 'Saxons are the last ones standing!'\n",
    "    return 'Vikings and Saxons are still in the thick of battle.'"
   ]
  },
  {
   "cell_type": "markdown",
   "metadata": {},
   "source": [
    "### Start the battle\n",
    "\n",
    "Now you have all you need to simulate the battle. First, create the soldiers.\n",
    "\n",
    "**Create as many `Viking` instances as teachers in your class and give them the appropriate names. Remember to add them to the `viking_army`.** All vikings have 100 health points and 50 strength points."
   ]
  },
  {
   "cell_type": "code",
   "execution_count": 22,
   "metadata": {},
   "outputs": [],
   "source": [
    "# your code here\n",
    "v1 = bs.Viking(100, 50, 'Ali')\n",
    "v2 = bs.Viking(100, 50, 'Nacho')\n",
    "viking_army.append(v1)\n",
    "viking_army.append(v2)"
   ]
  },
  {
   "cell_type": "markdown",
   "metadata": {},
   "source": [
    "**Create as many `Saxons` instances as students in your class. Remember to add them to the `saxon_army`.** All saxons have 100 health points and 15 strength points."
   ]
  },
  {
   "cell_type": "code",
   "execution_count": 23,
   "metadata": {},
   "outputs": [],
   "source": [
    "# your code here\n",
    "saxon_army.append(bs.Saxon(100, 15))\n",
    "saxon_army.append(bs.Saxon(100, 15))\n",
    "saxon_army.append(bs.Saxon(100, 15))\n",
    "saxon_army.append(bs.Saxon(100, 15))\n",
    "saxon_army.append(bs.Saxon(100, 15))\n",
    "saxon_army.append(bs.Saxon(100, 15))\n",
    "saxon_army.append(bs.Saxon(100, 15))\n",
    "saxon_army.append(bs.Saxon(100, 15))\n",
    "saxon_army.append(bs.Saxon(100, 15))\n",
    "saxon_army.append(bs.Saxon(100, 15))\n",
    "saxon_army.append(bs.Saxon(100, 15))\n",
    "saxon_army.append(bs.Saxon(100, 15))"
   ]
  },
  {
   "cell_type": "markdown",
   "metadata": {},
   "source": [
    "**Finally, write the execution of the battle.**\n",
    "You will need to create a battle loop. In each iteration:\n",
    "\n",
    "- Vikings will attack first. \n",
    "- After the attack, a message of the Saxon soldier status must be printed. \n",
    "- Saxons will attack last. \n",
    "- After the attack, a message of the Viking soldier status must be printed.\n",
    "- At the end of an iteration, a message of the status of the battle must be printed.\n",
    "\n",
    "Remember to take into account that if any of the armies lose all their soldiers, the battle needs automatically and a message of the resolution of the battle must be printed."
   ]
  },
  {
   "cell_type": "code",
   "execution_count": 24,
   "metadata": {},
   "outputs": [
    {
     "name": "stdout",
     "output_type": "stream",
     "text": [
      "A Saxon has received 50 points of damage\n",
      "Nacho has received DAMAGE points of damage\n",
      "Vikings and Saxons are still in the thick of battle.\n",
      "A Saxon has received 50 points of damage\n",
      "Nacho has received DAMAGE points of damage\n",
      "Vikings and Saxons are still in the thick of battle.\n",
      "A Saxon has received 50 points of damage\n",
      "Ali has received DAMAGE points of damage\n",
      "Vikings and Saxons are still in the thick of battle.\n",
      "A Saxon has received 50 points of damage\n",
      "Ali has received DAMAGE points of damage\n",
      "Vikings and Saxons are still in the thick of battle.\n",
      "A Saxon has received 50 points of damage\n",
      "Ali has received DAMAGE points of damage\n",
      "Vikings and Saxons are still in the thick of battle.\n",
      "A Saxon has received 50 points of damage\n",
      "Nacho has received DAMAGE points of damage\n",
      "Vikings and Saxons are still in the thick of battle.\n",
      "A Saxon has received 50 points of damage\n",
      "Ali has received DAMAGE points of damage\n",
      "Vikings and Saxons are still in the thick of battle.\n",
      "A Saxon has received 50 points of damage\n",
      "Nacho has received DAMAGE points of damage\n",
      "Vikings and Saxons are still in the thick of battle.\n",
      "A Saxon has died in combat\n",
      "Nacho has received DAMAGE points of damage\n",
      "Vikings and Saxons are still in the thick of battle.\n",
      "A Saxon has died in combat\n",
      "Nacho has received DAMAGE points of damage\n",
      "Vikings and Saxons are still in the thick of battle.\n",
      "A Saxon has died in combat\n",
      "Nacho has died in combat\n",
      "Vikings and Saxons are still in the thick of battle.\n",
      "A Saxon has received 50 points of damage\n",
      "Ali has received DAMAGE points of damage\n",
      "Vikings and Saxons are still in the thick of battle.\n",
      "A Saxon has received 50 points of damage\n",
      "Ali has received DAMAGE points of damage\n",
      "Vikings and Saxons are still in the thick of battle.\n",
      "A Saxon has died in combat\n",
      "Ali has died in combat\n",
      "Saxons are the last ones standing!\n"
     ]
    }
   ],
   "source": [
    "# your code here\n",
    "while len(viking_army) > 0 and len(saxon_army) > 0:\n",
    "    print(viking_attack())\n",
    "    print(saxon_attack())\n",
    "    print(show_status())"
   ]
  }
 ],
 "metadata": {
  "file_extension": ".py",
  "kernelspec": {
   "display_name": "Python 3.7.6 64-bit",
   "language": "python",
   "name": "python37664bite61034f5ef0c466e91726dec7b83c0f7"
  },
  "language_info": {
   "codemirror_mode": {
    "name": "ipython",
    "version": 3
   },
   "file_extension": ".py",
   "mimetype": "text/x-python",
   "name": "python",
   "nbconvert_exporter": "python",
   "pygments_lexer": "ipython3",
   "version": "3.7.6"
  },
  "mimetype": "text/x-python",
  "name": "python",
  "npconvert_exporter": "python",
  "pygments_lexer": "ipython3",
  "version": 3
 },
 "nbformat": 4,
 "nbformat_minor": 2
}
