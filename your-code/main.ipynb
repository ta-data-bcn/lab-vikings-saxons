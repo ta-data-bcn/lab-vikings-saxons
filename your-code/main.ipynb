{
 "cells": [
  {
   "cell_type": "markdown",
   "metadata": {},
   "source": [
    "# Lab | Classes: Vikings vs Saxons\n",
    "\n",
    "The Vikings and Saxons are at war. The moment to fight has come!"
   ]
  },
  {
   "cell_type": "markdown",
   "metadata": {},
   "source": [
    "<div style=\"text-align:center\">\n",
    "  <img src=\"https://media.giphy.com/media/3o7qDLwhxkGTMvDHws/giphy.gif\" width=400px>\n",
    "</div>"
   ]
  },
  {
   "cell_type": "markdown",
   "metadata": {},
   "source": [
    "### Import module\n",
    "To go to war, you need brave soldiers. \n",
    "\n",
    "**Import `soldiers` from module `battle`. Use `bs` as an alias for your import. You'll also need module `random`. Import both of them in the cell below.**"
   ]
  },
  {
   "cell_type": "code",
   "execution_count": 26,
   "metadata": {},
   "outputs": [],
   "source": [
    "from battle import soldiers as s\n",
    "import random"
   ]
  },
  {
   "cell_type": "markdown",
   "metadata": {},
   "source": [
    "Now, follow the instructions to create a simulation of the war.\n",
    "\n",
    "### Define functions\n",
    "\n",
    "**Create two empty lists called `viking_army` and `saxon_army`.**\n",
    "\n",
    "These lists will store the soldiers of each army. "
   ]
  },
  {
   "cell_type": "code",
   "execution_count": 27,
   "metadata": {},
   "outputs": [],
   "source": [
    "viking_army = []\n",
    "saxon_army = []"
   ]
  },
  {
   "cell_type": "markdown",
   "metadata": {},
   "source": [
    "**Define two functions called `add_viking` and `add_saxon`.** \n",
    "\n",
    "These functions will add soldiers to each army. The requirements that `add_viking` and `add_saxon` must meet are:\n",
    "\n",
    "* **add_viking**\n",
    "    - Must receive a `Viking` object as an argument.\n",
    "    - Must add the `Viking` to the `viking_army`. \n",
    "    \n",
    "* **add_saxon**\n",
    "    - Must receive a `Saxon` object as an argument.\n",
    "    - Must add the `Saxon` to the `saxon_army`. "
   ]
  },
  {
   "cell_type": "code",
   "execution_count": 28,
   "metadata": {},
   "outputs": [],
   "source": [
    "def add_viking(Viking):\n",
    "    global viking_army\n",
    "    return viking_army.append(Viking)\n",
    "\n",
    "def add_saxon(Saxon):\n",
    "    global saxon_army\n",
    "    return saxon_army.append(Saxon)"
   ]
  },
  {
   "cell_type": "markdown",
   "metadata": {},
   "source": [
    "**Define two functions called `viking_attack` and `saxon_attack`.** \n",
    "\n",
    "These functions will choose one random soldier to attack one random soldier of the opposite army. The requirements that `viking_attack` and `saxon_attack` must meet are:\n",
    "\n",
    "* **viking_attack**\n",
    "    - Must choose a `Viking` object from the `viking_army` at random.\n",
    "    - Must choose a `Saxon` object from the `saxon_army` at random. \n",
    "    - Must make the `Saxon` receive damage equal to the `strength` of the `Viking`. \n",
    "    - Must remove the `Saxon` from the army if he or she dies.\n",
    "    - Must return the result of calling the `receive_damage` method of the `Saxon`. \n",
    "    \n",
    "* **saxon_attack**\n",
    "    - Must choose a `Viking` object from the `viking_army` at random.\n",
    "    - Must choose a `Saxon` object from the `saxon_army` at random. \n",
    "    - Must make the `Viking` receive damage equal to the `strength` of the `Saxon`. \n",
    "    - Must remove the `Viking` from the army if he or she dies.\n",
    "    - Must return the result of calling the `receive_damage` method of the `Viking`."
   ]
  },
  {
   "cell_type": "code",
   "execution_count": 29,
   "metadata": {},
   "outputs": [],
   "source": [
    "def viking_attack():\n",
    "    global viking_army\n",
    "    global saxon_army\n",
    "    v_warrior = random.choice(viking_army)\n",
    "    s_warrior = random.choice(saxon_army)\n",
    "    damage = s_warrior.receive_damage(v_warrior.attack())\n",
    "    if damage == 1:\n",
    "        print(f'A Saxon received {v_warrior.attack()}')\n",
    "        return viking_army\n",
    "    else:\n",
    "        saxon_army.remove(s_warrior)\n",
    "        print('A Saxon died')\n",
    "\n",
    "def saxon_attack():\n",
    "    global saxon_army\n",
    "    global viking_army\n",
    "    v_warrior = random.choice(viking_army)\n",
    "    s_warrior = random.choice(saxon_army)\n",
    "    damage = v_warrior.receive_damage(s_warrior.attack())\n",
    "    if damage == 1:\n",
    "        print(f'{v_warrior.name} received {s_warrior.attack()}')\n",
    "    else:\n",
    "        viking_army.remove(v_warrior)\n",
    "        print(f'{v_warrior.name} died')        \n",
    "\n",
    "        "
   ]
  },
  {
   "cell_type": "markdown",
   "metadata": {},
   "source": [
    "**Define a function called `show_status`.**\n",
    "This function will show the current status of the war. The requirements that `show_status` must meet are:\n",
    "\n",
    "* **show_status**\n",
    "    - If the `Saxon` list is empty, must return \"Vikings live to fight another day!\"\n",
    "    - If the `Viking` list is empty, must return \"Saxons are the last ones standing! \"\n",
    "    - If there are at least one `Viking` and one `Saxon`, must return \"Vikings and Saxons are still in the thick of battle.\"\n"
   ]
  },
  {
   "cell_type": "code",
   "execution_count": 30,
   "metadata": {},
   "outputs": [],
   "source": [
    "def show_status():\n",
    "    global saxon_army\n",
    "    global viking_army\n",
    "    if len(saxon_army) == 0:\n",
    "        print('Vikings live to fight another day!')\n",
    "        return 0\n",
    "    elif len(viking_army) == 0:\n",
    "        print('Saxons are the last ones standing!')\n",
    "        return 0\n",
    "    else:\n",
    "        print('Vikings and Saxons are still in the thick of the battle')\n",
    "        return 1"
   ]
  },
  {
   "cell_type": "markdown",
   "metadata": {},
   "source": [
    "### Start the battle\n",
    "\n",
    "Now you have all you need to simulate the battle. First, create the soldiers.\n",
    "\n",
    "**Create as many `Viking` instances as teachers in your class and give them the appropriate names. Remember to add them to the `viking_army`.** All vikings have 100 health points and 50 strength points."
   ]
  },
  {
   "cell_type": "code",
   "execution_count": 38,
   "metadata": {},
   "outputs": [
    {
     "data": {
      "text/plain": [
       "[<battle.soldiers.Viking at 0x20e6e706908>,\n",
       " <battle.soldiers.Viking at 0x20e6e706848>]"
      ]
     },
     "execution_count": 38,
     "metadata": {},
     "output_type": "execute_result"
    }
   ],
   "source": [
    "ragnar = s.Viking(100, 50, 'Ragnar')\n",
    "floki = s.Viking(100, 50, 'Floki')\n",
    "add_viking(ragnar)\n",
    "add_viking(floki)\n",
    "viking_army"
   ]
  },
  {
   "cell_type": "markdown",
   "metadata": {},
   "source": [
    "**Create as many `Saxons` instances as students in your class. Remember to add them to the `saxon_army`.** All saxons have 100 health points and 15 strength points."
   ]
  },
  {
   "cell_type": "code",
   "execution_count": 39,
   "metadata": {},
   "outputs": [
    {
     "data": {
      "text/plain": [
       "[<battle.soldiers.Saxon at 0x20e6e6f9f08>,\n",
       " <battle.soldiers.Saxon at 0x20e6e6f9f88>,\n",
       " <battle.soldiers.Saxon at 0x20e6e6f9fc8>,\n",
       " <battle.soldiers.Saxon at 0x20e6e6ff048>,\n",
       " <battle.soldiers.Saxon at 0x20e6e706bc8>,\n",
       " <battle.soldiers.Saxon at 0x20e6e706c48>,\n",
       " <battle.soldiers.Saxon at 0x20e6e706c88>,\n",
       " <battle.soldiers.Saxon at 0x20e6e706d08>,\n",
       " <battle.soldiers.Saxon at 0x20e6e6f9f48>,\n",
       " <battle.soldiers.Saxon at 0x20e6e706d48>,\n",
       " <battle.soldiers.Saxon at 0x20e6e706d88>]"
      ]
     },
     "execution_count": 39,
     "metadata": {},
     "output_type": "execute_result"
    }
   ],
   "source": [
    "for i in range(8):\n",
    "    i = s.Saxon(100, 15)\n",
    "    add_saxon(i)\n",
    "saxon_army"
   ]
  },
  {
   "cell_type": "markdown",
   "metadata": {},
   "source": [
    "**Finally, write the execution of the battle.**\n",
    "You will need to create a battle loop. In each iteration:\n",
    "\n",
    "- Vikings will attack first. \n",
    "- After the attack, a message of the Saxon soldier status must be printed. \n",
    "- Saxons will attack last. \n",
    "- After the attack, a message of the Viking soldier status must be printed.\n",
    "- At the end of an iteration, a message of the status of the battle must be printed.\n",
    "\n",
    "Remember to take into account that if any of the armies lose all their soldiers, the battle needs automatically and a message of the resolution of the battle must be printed."
   ]
  },
  {
   "cell_type": "code",
   "execution_count": 40,
   "metadata": {},
   "outputs": [
    {
     "name": "stdout",
     "output_type": "stream",
     "text": [
      "A Saxon received 50\n",
      "Ragnar received 15\n",
      "Vikings and Saxons are still in the thick of the battle\n",
      "A Saxon died\n",
      "Ragnar received 15\n",
      "Vikings and Saxons are still in the thick of the battle\n",
      "A Saxon received 50\n",
      "Floki received 15\n",
      "Vikings and Saxons are still in the thick of the battle\n",
      "A Saxon received 50\n",
      "Floki received 15\n",
      "Vikings and Saxons are still in the thick of the battle\n",
      "A Saxon received 50\n",
      "Floki received 15\n",
      "Vikings and Saxons are still in the thick of the battle\n",
      "A Saxon received 50\n",
      "Ragnar received 15\n",
      "Vikings and Saxons are still in the thick of the battle\n",
      "A Saxon died\n",
      "Ragnar received 15\n",
      "Vikings and Saxons are still in the thick of the battle\n",
      "A Saxon received 50\n",
      "Ragnar received 15\n",
      "Vikings and Saxons are still in the thick of the battle\n",
      "A Saxon received 50\n",
      "Ragnar received 15\n",
      "Vikings and Saxons are still in the thick of the battle\n",
      "A Saxon died\n",
      "Floki received 15\n",
      "Vikings and Saxons are still in the thick of the battle\n",
      "A Saxon received 50\n",
      "Floki received 15\n",
      "Vikings and Saxons are still in the thick of the battle\n",
      "A Saxon died\n",
      "Ragnar died\n",
      "Vikings and Saxons are still in the thick of the battle\n",
      "A Saxon died\n",
      "Floki received 15\n",
      "Vikings and Saxons are still in the thick of the battle\n",
      "A Saxon died\n",
      "Floki died\n",
      "Saxons are the last ones standing!\n"
     ]
    }
   ],
   "source": [
    "status = 1\n",
    "while status > 0:\n",
    "    viking_attack()\n",
    "    saxon_attack()\n",
    "    status = show_status()"
   ]
  },
  {
   "cell_type": "code",
   "execution_count": null,
   "metadata": {},
   "outputs": [],
   "source": []
  }
 ],
 "metadata": {
  "file_extension": ".py",
  "kernelspec": {
   "display_name": "Python 3",
   "language": "python",
   "name": "python3"
  },
  "language_info": {
   "codemirror_mode": {
    "name": "ipython",
    "version": 3
   },
   "file_extension": ".py",
   "mimetype": "text/x-python",
   "name": "python",
   "nbconvert_exporter": "python",
   "pygments_lexer": "ipython3",
   "version": "3.7.4"
  },
  "mimetype": "text/x-python",
  "name": "python",
  "npconvert_exporter": "python",
  "pygments_lexer": "ipython3",
  "version": 3
 },
 "nbformat": 4,
 "nbformat_minor": 2
}
